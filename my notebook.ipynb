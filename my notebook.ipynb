{
 "cells": [
  {
   "cell_type": "code",
   "execution_count": 31,
   "metadata": {
    "_cell_guid": "b1076dfc-b9ad-4769-8c92-a6c4dae69d19",
    "_uuid": "8f2839f25d086af736a60e9eeb907d3b93b6e0e5",
    "execution": {
     "iopub.execute_input": "2021-10-25T19:52:22.382696Z",
     "iopub.status.busy": "2021-10-25T19:52:22.382228Z",
     "iopub.status.idle": "2021-10-25T19:52:22.389431Z",
     "shell.execute_reply": "2021-10-25T19:52:22.388440Z",
     "shell.execute_reply.started": "2021-10-25T19:52:22.382656Z"
    }
   },
   "outputs": [],
   "source": [
    "import cv2\n",
    "import glob\n",
    "import pandas as pd\n",
    "import numpy as np\n",
    "from matplotlib import pyplot as plt \n",
    "from tensorflow.keras.layers import Dense\n",
    "from tensorflow.keras.models import Sequential\n",
    "from tensorflow.keras.utils import to_categorical\n",
    "from tensorflow.keras.preprocessing.image import ImageDataGenerator,load_img,img_to_array\n",
    "import tensorflow as tf\n",
    "import matplotlib.pyplot as plt\n",
    "from tensorflow.keras.layers import Dense, Conv2D, Flatten,MaxPool2D, Dropout, BatchNormalization\n",
    "from tensorflow.keras.models import Sequential\n",
    "from tensorflow.keras.utils import to_categorical\n",
    "from tensorflow.keras.callbacks import ModelCheckpoint, EarlyStopping, ReduceLROnPlateau\n"
   ]
  },
  {
   "cell_type": "code",
   "execution_count": 32,
   "metadata": {
    "execution": {
     "iopub.execute_input": "2021-10-25T19:52:22.700029Z",
     "iopub.status.busy": "2021-10-25T19:52:22.699628Z",
     "iopub.status.idle": "2021-10-25T19:52:34.922640Z",
     "shell.execute_reply": "2021-10-25T19:52:34.921816Z",
     "shell.execute_reply.started": "2021-10-25T19:52:22.699992Z"
    }
   },
   "outputs": [],
   "source": [
    "train_dir = '../input/arabic-hwr-ai-pro-intake1/train/'\n",
    "test_dir = '../input/arabic-hwr-ai-pro-intake1/test/'\n",
    "\n",
    "files1,files2 = [],[]\n",
    "\n",
    "files1.extend(glob.glob(train_dir + '*.' + 'png')) \n",
    "files1 = sorted(files1)\n",
    "train_images = np.array([cv2.imread(file,cv2.IMREAD_GRAYSCALE) for file in files1])\n",
    "\n",
    "train_labels = np.genfromtxt('../input/arabic-hwr-ai-pro-intake1/train.csv',delimiter=',',dtype=int,skip_header=1)[:,1]\n",
    "\n",
    "files2.extend(glob.glob(test_dir + '*.' + 'png'))\n",
    "files2 = sorted(files2)\n",
    "test_images = np.array([cv2.imread(file,cv2.IMREAD_GRAYSCALE) for file in files2])\n",
    "test_labels = np.genfromtxt('../input/arabic-hwr-ai-pro-intake1/test.csv',delimiter=',',dtype=int,skip_header=1)\n"
   ]
  },
  {
   "cell_type": "code",
   "execution_count": 33,
   "metadata": {
    "execution": {
     "iopub.execute_input": "2021-10-25T19:52:43.646236Z",
     "iopub.status.busy": "2021-10-25T19:52:43.645515Z",
     "iopub.status.idle": "2021-10-25T19:52:43.649846Z",
     "shell.execute_reply": "2021-10-25T19:52:43.649157Z",
     "shell.execute_reply.started": "2021-10-25T19:52:43.646200Z"
    }
   },
   "outputs": [],
   "source": [
    "train_images = train_images.reshape(-1, 32, 32, 1)\n",
    "test_images = test_images.reshape(-1, 32, 32, 1)"
   ]
  },
  {
   "cell_type": "code",
   "execution_count": 34,
   "metadata": {
    "execution": {
     "iopub.execute_input": "2021-10-25T19:52:44.468134Z",
     "iopub.status.busy": "2021-10-25T19:52:44.467423Z",
     "iopub.status.idle": "2021-10-25T19:52:44.494111Z",
     "shell.execute_reply": "2021-10-25T19:52:44.493439Z",
     "shell.execute_reply.started": "2021-10-25T19:52:44.468093Z"
    }
   },
   "outputs": [],
   "source": [
    "from sklearn.preprocessing import OneHotEncoder\n",
    "encoder = OneHotEncoder(sparse=False)\n",
    "train_labels = encoder.fit_transform(train_labels.reshape(-1,1))"
   ]
  },
  {
   "cell_type": "code",
   "execution_count": 35,
   "metadata": {
    "execution": {
     "iopub.execute_input": "2021-10-25T19:52:48.266162Z",
     "iopub.status.busy": "2021-10-25T19:52:48.265597Z",
     "iopub.status.idle": "2021-10-25T19:52:48.280026Z",
     "shell.execute_reply": "2021-10-25T19:52:48.279357Z",
     "shell.execute_reply.started": "2021-10-25T19:52:48.266123Z"
    }
   },
   "outputs": [],
   "source": [
    "from sklearn.model_selection import train_test_split\n",
    "train,validation,y_train,y_val = train_test_split(train_images,train_labels, test_size=0.3, random_state=42,shuffle=True)"
   ]
  },
  {
   "cell_type": "code",
   "execution_count": 36,
   "metadata": {
    "execution": {
     "iopub.execute_input": "2021-10-25T19:52:50.316017Z",
     "iopub.status.busy": "2021-10-25T19:52:50.315746Z",
     "iopub.status.idle": "2021-10-25T19:52:50.355622Z",
     "shell.execute_reply": "2021-10-25T19:52:50.354833Z",
     "shell.execute_reply.started": "2021-10-25T19:52:50.315986Z"
    }
   },
   "outputs": [],
   "source": [
    "train = train/255\n",
    "validation = validation/255"
   ]
  },
  {
   "cell_type": "code",
   "execution_count": 129,
   "metadata": {
    "execution": {
     "iopub.execute_input": "2021-10-25T21:47:17.065247Z",
     "iopub.status.busy": "2021-10-25T21:47:17.064535Z",
     "iopub.status.idle": "2021-10-25T21:48:39.778979Z",
     "shell.execute_reply": "2021-10-25T21:48:39.778174Z",
     "shell.execute_reply.started": "2021-10-25T21:47:17.065196Z"
    }
   },
   "outputs": [
    {
     "name": "stdout",
     "output_type": "stream",
     "text": [
      "Epoch 1/30\n",
      "37/37 [==============================] - 3s 54ms/step - loss: 3.3148 - accuracy: 0.0390 - val_loss: 3.2876 - val_accuracy: 0.0350\n",
      "Epoch 2/30\n",
      "37/37 [==============================] - 2s 50ms/step - loss: 3.1237 - accuracy: 0.0719 - val_loss: 3.0057 - val_accuracy: 0.1066\n",
      "Epoch 3/30\n",
      "37/37 [==============================] - 2s 50ms/step - loss: 2.5402 - accuracy: 0.1541 - val_loss: 2.1390 - val_accuracy: 0.2822\n",
      "Epoch 4/30\n",
      "37/37 [==============================] - 2s 51ms/step - loss: 1.7915 - accuracy: 0.3482 - val_loss: 1.2887 - val_accuracy: 0.5692\n",
      "Epoch 5/30\n",
      "37/37 [==============================] - 2s 50ms/step - loss: 1.0620 - accuracy: 0.5949 - val_loss: 0.7112 - val_accuracy: 0.7512\n",
      "Epoch 6/30\n",
      "37/37 [==============================] - 2s 50ms/step - loss: 0.7275 - accuracy: 0.7307 - val_loss: 0.5075 - val_accuracy: 0.8400\n",
      "Epoch 7/30\n",
      "37/37 [==============================] - 2s 50ms/step - loss: 0.5707 - accuracy: 0.7866 - val_loss: 0.4072 - val_accuracy: 0.8807\n",
      "Epoch 8/30\n",
      "37/37 [==============================] - 2s 50ms/step - loss: 0.4360 - accuracy: 0.8424 - val_loss: 0.3115 - val_accuracy: 0.9132\n",
      "Epoch 9/30\n",
      "37/37 [==============================] - 2s 50ms/step - loss: 0.3593 - accuracy: 0.8745 - val_loss: 0.2914 - val_accuracy: 0.8983\n",
      "Epoch 10/30\n",
      "37/37 [==============================] - 2s 50ms/step - loss: 0.3071 - accuracy: 0.8949 - val_loss: 0.2190 - val_accuracy: 0.9437\n",
      "Epoch 11/30\n",
      "37/37 [==============================] - 2s 51ms/step - loss: 0.2577 - accuracy: 0.9131 - val_loss: 0.1948 - val_accuracy: 0.9474\n",
      "Epoch 12/30\n",
      "37/37 [==============================] - 2s 49ms/step - loss: 0.2485 - accuracy: 0.9175 - val_loss: 0.1728 - val_accuracy: 0.9531\n",
      "Epoch 13/30\n",
      "37/37 [==============================] - 2s 52ms/step - loss: 0.2104 - accuracy: 0.9313 - val_loss: 0.1570 - val_accuracy: 0.9549\n",
      "Epoch 14/30\n",
      "37/37 [==============================] - 2s 50ms/step - loss: 0.1808 - accuracy: 0.9428 - val_loss: 0.1441 - val_accuracy: 0.9593\n",
      "Epoch 15/30\n",
      "37/37 [==============================] - 2s 50ms/step - loss: 0.1510 - accuracy: 0.9499 - val_loss: 0.1410 - val_accuracy: 0.9591\n",
      "Epoch 16/30\n",
      "37/37 [==============================] - 2s 51ms/step - loss: 0.1511 - accuracy: 0.9495 - val_loss: 0.1317 - val_accuracy: 0.9596\n",
      "Epoch 17/30\n",
      "37/37 [==============================] - 2s 50ms/step - loss: 0.1379 - accuracy: 0.9530 - val_loss: 0.1197 - val_accuracy: 0.9648\n",
      "Epoch 18/30\n",
      "37/37 [==============================] - 2s 50ms/step - loss: 0.1308 - accuracy: 0.9577 - val_loss: 0.1180 - val_accuracy: 0.9638\n",
      "Epoch 19/30\n",
      "37/37 [==============================] - 2s 50ms/step - loss: 0.1245 - accuracy: 0.9596 - val_loss: 0.1180 - val_accuracy: 0.9655\n",
      "Epoch 20/30\n",
      "37/37 [==============================] - 2s 49ms/step - loss: 0.1134 - accuracy: 0.9640 - val_loss: 0.1050 - val_accuracy: 0.9700\n",
      "Epoch 21/30\n",
      "37/37 [==============================] - 2s 50ms/step - loss: 0.1152 - accuracy: 0.9608 - val_loss: 0.1084 - val_accuracy: 0.9680\n",
      "Epoch 22/30\n",
      "37/37 [==============================] - 2s 50ms/step - loss: 0.0960 - accuracy: 0.9677 - val_loss: 0.0971 - val_accuracy: 0.9737\n",
      "Epoch 23/30\n",
      "37/37 [==============================] - 2s 50ms/step - loss: 0.1027 - accuracy: 0.9676 - val_loss: 0.0989 - val_accuracy: 0.9740\n",
      "Epoch 24/30\n",
      "37/37 [==============================] - 2s 50ms/step - loss: 0.0749 - accuracy: 0.9775 - val_loss: 0.0878 - val_accuracy: 0.9740\n",
      "Epoch 25/30\n",
      "37/37 [==============================] - 2s 50ms/step - loss: 0.0685 - accuracy: 0.9769 - val_loss: 0.0863 - val_accuracy: 0.9742\n",
      "Epoch 26/30\n",
      "37/37 [==============================] - 2s 49ms/step - loss: 0.0749 - accuracy: 0.9760 - val_loss: 0.0932 - val_accuracy: 0.9735\n",
      "Epoch 27/30\n",
      "37/37 [==============================] - 2s 50ms/step - loss: 0.0812 - accuracy: 0.9734 - val_loss: 0.1204 - val_accuracy: 0.9635\n",
      "Epoch 28/30\n",
      "37/37 [==============================] - 2s 51ms/step - loss: 0.0832 - accuracy: 0.9719 - val_loss: 0.1070 - val_accuracy: 0.9702\n",
      "Epoch 29/30\n",
      "37/37 [==============================] - 2s 51ms/step - loss: 0.0620 - accuracy: 0.9794 - val_loss: 0.0818 - val_accuracy: 0.9737\n",
      "Epoch 30/30\n",
      "37/37 [==============================] - 2s 52ms/step - loss: 0.0548 - accuracy: 0.9830 - val_loss: 0.0767 - val_accuracy: 0.9774\n"
     ]
    }
   ],
   "source": [
    "model = Sequential()\n",
    "model.add(Conv2D(64,kernel_size=5,activation='relu',input_shape=(32,32,1),padding='same'))\n",
    "model.add(Conv2D(128,kernel_size=5,activation='relu',padding='same'))\n",
    "model.add(MaxPool2D(2))\n",
    "model.add(Dropout(0.3))\n",
    "model.add(Conv2D(128,kernel_size=5,activation='relu',padding='same'))\n",
    "model.add(MaxPool2D(2))\n",
    "model.add(Dropout(0.3))\n",
    "model.add(Conv2D(256,kernel_size=5,activation='relu',padding='same'))\n",
    "model.add(MaxPool2D(2))\n",
    "model.add(Dropout(0.4))\n",
    "model.add(Conv2D(256,kernel_size=3,activation='relu',padding='same'))\n",
    "model.add(MaxPool2D(2))\n",
    "model.add(Dropout(0.4))\n",
    "model.add(MaxPool2D(2))\n",
    "model.add(Flatten())\n",
    "model.add(Dense(400,activation='relu'))\n",
    "model.add(Dropout(0.4))\n",
    "model.add(Dense(28,activation='softmax'))\n",
    "model.compile(optimizer = 'adam',loss = 'categorical_crossentropy',metrics=['accuracy'])\n",
    "training = model.fit(train,y_train ,epochs = 30,batch_size=256,validation_data=(validation,y_val))"
   ]
  },
  {
   "cell_type": "code",
   "execution_count": 130,
   "metadata": {
    "execution": {
     "iopub.execute_input": "2021-10-25T21:48:39.781586Z",
     "iopub.status.busy": "2021-10-25T21:48:39.781134Z",
     "iopub.status.idle": "2021-10-25T21:48:39.990276Z",
     "shell.execute_reply": "2021-10-25T21:48:39.989476Z",
     "shell.execute_reply.started": "2021-10-25T21:48:39.781529Z"
    }
   },
   "outputs": [
    {
     "data": {
      "image/png": "[encoded data removed]",
      "text/plain": [
       "<Figure size 432x288 with 1 Axes>"
      ]
     },
     "metadata": {
      "needs_background": "light"
     },
     "output_type": "display_data"
    }
   ],
   "source": [
    "fig1 = plt.figure()\n",
    "plt.plot(range(30),training.history['loss'])\n",
    "plt.plot(range(30),training.history['val_loss'])\n",
    "\n",
    "plt.ylabel('loss',fontsize=10)\n",
    "plt.xlabel('epoch',fontsize=10)\n",
    "plt.legend(['train', 'test'], loc='upper right',fontsize=10)\n",
    "plt.show()"
   ]
  },
  {
   "cell_type": "code",
   "execution_count": 131,
   "metadata": {
    "execution": {
     "iopub.execute_input": "2021-10-25T21:48:39.992321Z",
     "iopub.status.busy": "2021-10-25T21:48:39.991846Z",
     "iopub.status.idle": "2021-10-25T21:48:43.457993Z",
     "shell.execute_reply": "2021-10-25T21:48:43.457295Z",
     "shell.execute_reply.started": "2021-10-25T21:48:39.992283Z"
    }
   },
   "outputs": [
    {
     "name": "stdout",
     "output_type": "stream",
     "text": [
      "294/294 [==============================] - 1s 4ms/step - loss: 0.0139 - accuracy: 0.9974\n",
      "trainAccuracy: 99.74%\n",
      "126/126 [==============================] - 1s 5ms/step - loss: 0.0767 - accuracy: 0.9774\n",
      "val Accuracy: 97.74%\n"
     ]
    }
   ],
   "source": [
    "accuracy = model.evaluate(train, y_train)[1]\n",
    "print('trainAccuracy: %.2f' % (accuracy*100)+\"%\")\n",
    "\n",
    "accuracy = model.evaluate(validation, y_val)[1]\n",
    "print('val Accuracy: %.2f' % (accuracy*100)+\"%\")"
   ]
  },
  {
   "cell_type": "code",
   "execution_count": 132,
   "metadata": {
    "execution": {
     "iopub.execute_input": "2021-10-25T21:49:27.993998Z",
     "iopub.status.busy": "2021-10-25T21:49:27.993286Z",
     "iopub.status.idle": "2021-10-25T21:49:28.085993Z",
     "shell.execute_reply": "2021-10-25T21:49:28.085098Z",
     "shell.execute_reply.started": "2021-10-25T21:49:27.993958Z"
    }
   },
   "outputs": [],
   "source": [
    "model.save(\"./model.h5\")"
   ]
  },
  {
   "cell_type": "code",
   "execution_count": 133,
   "metadata": {
    "execution": {
     "iopub.execute_input": "2021-10-25T21:53:26.795155Z",
     "iopub.status.busy": "2021-10-25T21:53:26.794653Z",
     "iopub.status.idle": "2021-10-25T21:53:28.730354Z",
     "shell.execute_reply": "2021-10-25T21:53:28.729611Z",
     "shell.execute_reply.started": "2021-10-25T21:53:26.795108Z"
    }
   },
   "outputs": [
    {
     "name": "stdout",
     "output_type": "stream",
     "text": [
      "294/294 [==============================] - 2s 5ms/step - loss: 0.0139 - accuracy: 0.9974\n"
     ]
    },
    {
     "data": {
      "text/plain": [
       "0.9974489808082581"
      ]
     },
     "execution_count": 133,
     "metadata": {},
     "output_type": "execute_result"
    }
   ],
   "source": [
    "from tensorflow.keras.models import load_model\n",
    "x = load_model('model.h5')\n",
    "x.evaluate(train,y_train)[1]"
   ]
  },
  {
   "cell_type": "code",
   "execution_count": null,
   "metadata": {},
   "outputs": [],
   "source": []
  }
 ],
 "metadata": {
  "kernelspec": {
   "display_name": "Python 3 (ipykernel)",
   "language": "python",
   "name": "python3"
  },
  "language_info": {
   "codemirror_mode": {
    "name": "ipython",
    "version": 3
   },
   "file_extension": ".py",
   "mimetype": "text/x-python",
   "name": "python",
   "nbconvert_exporter": "python",
   "pygments_lexer": "ipython3",
   "version": "3.8.10"
  }
 },
 "nbformat": 4,
 "nbformat_minor": 4
}
